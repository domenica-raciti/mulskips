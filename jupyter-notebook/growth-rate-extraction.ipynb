{
 "cells": [
  {
   "cell_type": "markdown",
   "metadata": {},
   "source": [
    "# Growth rate extraction"
   ]
  },
  {
   "cell_type": "markdown",
   "metadata": {},
   "source": [
    "The following notebook allows to extract the growth rate from a Super lattice Kinetic Monte Carlo simulation with the mulskips code. It is supposed that you run mulskips for a flat (001) surface, that is \"F\" letter as input geometry in the file `start.dat` (see the tutorial to run the epitaxial growth of a surface with mulskips)."
   ]
  },
  {
   "cell_type": "markdown",
   "metadata": {},
   "source": [
    "Firstly, let set the folder where you ran mulskips.\n",
    "The script will extract the growth rate from the output \\*.xyz files."
   ]
  },
  {
   "cell_type": "code",
   "execution_count": 21,
   "metadata": {
    "collapsed": true
   },
   "outputs": [],
   "source": [
    "run_dir = '/Users/giuseppefisicaro/Documents/surface/'"
   ]
  },
  {
   "cell_type": "markdown",
   "metadata": {},
   "source": [
    "To calculate the growth rate we have to extract the surface height z$^{\\text{surf}}_{\\text{ave}}$ at different KMC steps and the running time $t$. Then the growth rate $\\eta$ is\n",
    "\n",
    "$$ \\eta = \\frac{\\text{d} \\text{z}^{\\text{surf}}_{\\text{ave}}}{\\text{d}t}  $$\n",
    "\n",
    "Let start with the determination of the surface height z$^{\\text{surf}}_{\\text{ave}}$ from a generic output file of the undercoordinated atoms.\n",
    "To do that we divide the orthorhombic simulation box [x$_l$, y$_l$, z$_l$] in slices along the z-direction.\n",
    "The size of each z-slice in angstroem is defined by the variable `bin_size`.\n",
    "Essentially we are storing the z coordinates of all atoms in a histogram with bins of size `bin_size`."
   ]
  },
  {
   "cell_type": "code",
   "execution_count": 22,
   "metadata": {
    "collapsed": true
   },
   "outputs": [],
   "source": [
    "bin_size = 5.0 # [Angstroem] size of the bins in the z direction to store all z-values in an histogram, 5 Angstroem should be ok"
   ]
  },
  {
   "cell_type": "markdown",
   "metadata": {},
   "source": [
    "Then we check the slice along z which contains the largest number of atoms.\n",
    "This z-slice corresponds in a first approximation to the region where the growing surface lies.\n",
    "We calculate the average z coordinate z$_{\\text{ave}}^{\\text{largest-bin}}$ for atoms belonging to such z-slice.\n",
    "Then we calculate z$^{\\text{surf}}_{\\text{ave}}$ as the average of the z-coordinate of all atoms falling in the range\n",
    "$|z-z_{\\text{ave}}^{\\text{largest-bin}}| < \\text{surface_roughness}$. To set the `surface_roughness` parameter it is recommended to have a look to the \\*.xyz files by means of a visualization software to evaluate the extension/quality of the surface roughness. "
   ]
  },
  {
   "cell_type": "code",
   "execution_count": 23,
   "metadata": {
    "collapsed": true
   },
   "outputs": [],
   "source": [
    "surface_roughness = 10.0 # [Angstroem] surface roughness in the z direction where average the surface height."
   ]
  },
  {
   "cell_type": "markdown",
   "metadata": {},
   "source": [
    "All the above operation to get z$^{\\text{surf}}_{\\text{ave}}$ for a given KMC xyz file are coded in the `get_surface_height` function."
   ]
  },
  {
   "cell_type": "code",
   "execution_count": 24,
   "metadata": {
    "collapsed": true
   },
   "outputs": [],
   "source": [
    "# Main function of the notebook to get the surface height from a rough surface.\n",
    "import numpy as np\n",
    "def get_surface_height(filename,bin_size=5.0,surface_roughness=20.0):\n",
    "    # bin_size [Angstroem] represents the size of the bins in the z direction to store all z-values in an histogram\n",
    "    # surface_roughness [Angstroem] represents the surface roughness in the z direction where average the surface height\n",
    "    with open (filename) as f:\n",
    "        content = f.read().splitlines()\n",
    "        line=content[0]\n",
    "        splitline = line.split()\n",
    "        nat = int(splitline[0]) # Total number of atoms\n",
    "        #print('nat: {}'.format(nat))\n",
    "        line=content[1]\n",
    "        splitline = line.split()\n",
    "        bc=str(splitline[0])\n",
    "        xl=float(splitline[1])\n",
    "        yl=float(splitline[2])\n",
    "        zl=float(splitline[3])\n",
    "        #print(zl)\n",
    "        lines=content[2:]\n",
    "        all_z_values = []\n",
    "        for line in lines:\n",
    "            splitline = line.split()\n",
    "            at=str(splitline[0])\n",
    "            x=float(splitline[1])\n",
    "            y=float(splitline[2])\n",
    "            z=float(splitline[3])\n",
    "            all_z_values.append(z)\n",
    "        #print(all_z_values)\n",
    "        #print(min(all_z_values))\n",
    "        #print(max(all_z_values))\n",
    "        z_range = max(all_z_values) - min(all_z_values)\n",
    "        if len(all_z_values) != nat:\n",
    "            print('error: nat and len(all_z_values) do not coincide')\n",
    "        databins=int(zl/bin_size)\n",
    "        #print(databins)\n",
    "        hist = np.histogram(all_z_values,bins=databins,range=(0.0, zl))\n",
    "        #print(hist[0])\n",
    "        maxIndexList = [i for i,j in enumerate(hist[0]) if j==max(hist[0])] #here,i=index and j = value of that index\n",
    "        #print(maxIndexList[0])\n",
    "        #print(hist[0][maxIndexList])\n",
    "        z_min = float(bin_size * maxIndexList[0])\n",
    "        z_max = float(z_min + bin_size)\n",
    "\n",
    "        # average of z-value within the bin with maximum number of elements\n",
    "        count = 0\n",
    "        z_sum = 0.0\n",
    "        for z in all_z_values:\n",
    "            if z > z_min and z < z_max:\n",
    "                count+=1\n",
    "                z_sum = z_sum + z \n",
    "        z_ave = float(z_sum/count)\n",
    "        #print(z_ave)\n",
    "        \n",
    "        # average of z-value for atoms falling in the range (z_ave-surface_roughness,z_ave+surface_roughness)\n",
    "        count = 0\n",
    "        z_sum = 0.0\n",
    "        z_min = z_ave - surface_roughness\n",
    "        z_max = z_ave + surface_roughness\n",
    "        for z in all_z_values:\n",
    "            if z > z_min and z < z_max:\n",
    "                count+=1\n",
    "                z_sum = z_sum + z \n",
    "        z_ave = float(z_sum/count)\n",
    "        #print(z_ave)   \n",
    "    return z_ave"
   ]
  },
  {
   "cell_type": "markdown",
   "metadata": {},
   "source": [
    "Then we need to collect all the output \\*.xyz files from the mulskips run."
   ]
  },
  {
   "cell_type": "code",
   "execution_count": 25,
   "metadata": {
    "scrolled": true
   },
   "outputs": [],
   "source": [
    "# Collect all *.xyz files within the run_dir directory related to the undercoordinated atoms,\n",
    "# that are the files I00000000.xyz, I00000001.xyz etc ...\n",
    "import os\n",
    "files_list = os.listdir(run_dir)\n",
    "files_list.sort()\n",
    "\n",
    "# Un comment these lines if you want to list all files in the directory 'run_dir'\n",
    "#print('All files are:')\n",
    "#print(files_list)\n",
    "#print('')\n",
    "\n",
    "undercoordinated_atoms = []\n",
    "for file in files_list:\n",
    "    if file[-3:] == 'xyz':\n",
    "        if file[-5].isnumeric():\n",
    "            undercoordinated_atoms.append(file)\n",
    "\n",
    "#for ele in undercoordinated_atoms:\n",
    "#    print(ele)"
   ]
  },
  {
   "cell_type": "markdown",
   "metadata": {},
   "source": [
    "Here we calculate and store the surface height for all output files."
   ]
  },
  {
   "cell_type": "code",
   "execution_count": 26,
   "metadata": {
    "collapsed": true
   },
   "outputs": [],
   "source": [
    "all_surface_height = []\n",
    "for file in undercoordinated_atoms:\n",
    "    filename = run_dir+file\n",
    "    surface_height = get_surface_height(filename)\n",
    "    all_surface_height.append(surface_height)\n",
    "#print(all_surface_height)"
   ]
  },
  {
   "cell_type": "markdown",
   "metadata": {},
   "source": [
    "Here we plot the surface height as a z$^{\\text{surf}}_{\\text{ave}}$ as function of the KMC steps."
   ]
  },
  {
   "cell_type": "code",
   "execution_count": 27,
   "metadata": {},
   "outputs": [
    {
     "data": {
      "image/png": "[encoded data removed]",
      "text/plain": [
       "<matplotlib.figure.Figure at 0x11b891978>"
      ]
     },
     "metadata": {},
     "output_type": "display_data"
    }
   ],
   "source": [
    "import matplotlib.pyplot as plt\n",
    "plt.plot(all_surface_height)\n",
    "plt.xlabel('KMC step')\n",
    "plt.ylabel('Surface height [$\\AA$]')\n",
    "plt.show()"
   ]
  },
  {
   "cell_type": "markdown",
   "metadata": {},
   "source": [
    "Here we extract the KMC time from the run output.\n",
    "When you run the mulskips code please store the screen output in the file log.txt:\n",
    "\n",
    "`<path-of-the-compiled-code>/mulskips.e` | tee log.txt"
   ]
  },
  {
   "cell_type": "code",
   "execution_count": 28,
   "metadata": {
    "collapsed": true
   },
   "outputs": [],
   "source": [
    "def get_time(filename):\n",
    "    time_list = []\n",
    "    time_list.append(0.0)\n",
    "    with open (filename) as f:\n",
    "        content = f.read().splitlines()\n",
    "        for line in content:\n",
    "            splitline = line.split()\n",
    "            if splitline[0] == 'Iter':\n",
    "                time = float(splitline[2])\n",
    "                time_list.append(time)\n",
    "    return time_list"
   ]
  },
  {
   "cell_type": "code",
   "execution_count": 29,
   "metadata": {
    "collapsed": true
   },
   "outputs": [],
   "source": [
    "kmc_time_list = get_time(run_dir+'log.txt')"
   ]
  },
  {
   "cell_type": "markdown",
   "metadata": {},
   "source": [
    "Here we have to convert the KMC time in the real process time. That depends on the calibration strategy.\n",
    "A reasonable rescale can be obtained with a constant jump frequency $\\nu = 10^{-12}$ s."
   ]
  },
  {
   "cell_type": "code",
   "execution_count": 30,
   "metadata": {
    "collapsed": true
   },
   "outputs": [],
   "source": [
    "nu = 1.0e-12 # jump frequency"
   ]
  },
  {
   "cell_type": "code",
   "execution_count": 31,
   "metadata": {
    "collapsed": true
   },
   "outputs": [],
   "source": [
    "time_list = [i * nu for i in kmc_time_list]"
   ]
  },
  {
   "cell_type": "markdown",
   "metadata": {},
   "source": [
    "Here we plot the surface height as a z$^{\\text{surf}}_{\\text{ave}}$ as function of the procee time."
   ]
  },
  {
   "cell_type": "code",
   "execution_count": 32,
   "metadata": {},
   "outputs": [
    {
     "data": {
      "image/png": "[encoded data removed]",
      "text/plain": [
       "<matplotlib.figure.Figure at 0x11b891b00>"
      ]
     },
     "metadata": {},
     "output_type": "display_data"
    }
   ],
   "source": [
    "plt.plot(time_list,all_surface_height)\n",
    "plt.xlabel('time [s]')\n",
    "plt.ylabel('Surface height [$\\AA$]')\n",
    "plt.ticklabel_format(axis='x',style='sci',scilimits=(0,0))\n",
    "plt.show()"
   ]
  },
  {
   "cell_type": "code",
   "execution_count": 17,
   "metadata": {
    "collapsed": true
   },
   "outputs": [],
   "source": [
    "def get_growth_rate(time_list,all_surface_height):\n",
    "    gr = []\n",
    "    dx = all_surface_height[1] - all_surface_height[0]\n",
    "    dt = time_list[1] - time_list[0]\n",
    "    curr_gr = dx / dt\n",
    "    gr.append(curr_gr)\n",
    "    for ind in range(len(time_list)-2):\n",
    "        ind = ind+1\n",
    "        dx = all_surface_height[ind+1] - all_surface_height[ind-1]\n",
    "        dt = time_list[ind+1] - time_list[ind-1]\n",
    "        curr_gr = dx / dt\n",
    "        gr.append(curr_gr)\n",
    "    dx = all_surface_height[-1] - all_surface_height[-2]\n",
    "    dt = time_list[-1] - time_list[-2]\n",
    "    curr_gr = dx / dt\n",
    "    gr.append(curr_gr)\n",
    "    return gr"
   ]
  },
  {
   "cell_type": "code",
   "execution_count": 18,
   "metadata": {
    "collapsed": true
   },
   "outputs": [],
   "source": [
    "growth_rate = get_growth_rate(time_list,all_surface_height)"
   ]
  },
  {
   "cell_type": "code",
   "execution_count": 33,
   "metadata": {},
   "outputs": [
    {
     "data": {
      "image/png": "[encoded data removed]",
      "text/plain": [
       "<matplotlib.figure.Figure at 0x11244c7b8>"
      ]
     },
     "metadata": {},
     "output_type": "display_data"
    }
   ],
   "source": [
    "plt.plot(time_list,growth_rate)\n",
    "plt.xlabel('time [s]')\n",
    "plt.ylabel('Growth rate $\\eta$ [${\\AA}/s$]')\n",
    "plt.ticklabel_format(axis='x',style='sci',scilimits=(0,0))\n",
    "plt.show()"
   ]
  }
 ],
 "metadata": {
  "kernelspec": {
   "display_name": "Python 3",
   "language": "python",
   "name": "python3"
  },
  "language_info": {
   "codemirror_mode": {
    "name": "ipython",
    "version": 3
   },
   "file_extension": ".py",
   "mimetype": "text/x-python",
   "name": "python",
   "nbconvert_exporter": "python",
   "pygments_lexer": "ipython3",
   "version": "3.6.3"
  },
  "varInspector": {
   "cols": {
    "lenName": 16,
    "lenType": 16,
    "lenVar": 40
   },
   "kernels_config": {
    "python": {
     "delete_cmd_postfix": "",
     "delete_cmd_prefix": "del ",
     "library": "var_list.py",
     "varRefreshCmd": "print(var_dic_list())"
    },
    "r": {
     "delete_cmd_postfix": ") ",
     "delete_cmd_prefix": "rm(",
     "library": "var_list.r",
     "varRefreshCmd": "cat(var_dic_list()) "
    }
   },
   "types_to_exclude": [
    "module",
    "function",
    "builtin_function_or_method",
    "instance",
    "_Feature"
   ],
   "window_display": false
  }
 },
 "nbformat": 4,
 "nbformat_minor": 2
}
